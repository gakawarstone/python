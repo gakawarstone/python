{
 "cells": [
  {
   "cell_type": "code",
   "execution_count": null,
   "metadata": {},
   "outputs": [],
   "source": [
    "L = []\n",
    "\n",
    "with open(\"untitled.txt\") as file:\n",
    "    for line in file:\n",
    "        for char in line:\n",
    "            if char != ' ':\n",
    "                L.append(char)\n",
    "\n",
    "outp = int(L[-1]) - int(L[0])\n",
    "print(outp)"
   ]
  },
  {
   "cell_type": "code",
   "execution_count": 1,
   "metadata": {},
   "outputs": [
    {
     "name": "stdout",
     "output_type": "stream",
     "text": [
      "4\n"
     ]
    }
   ],
   "source": [
    "import itertools as it\n",
    "N, K = (3, 3)\n",
    "L = [4, 1, 5]\n",
    "combs_sweets = []\n",
    "answer = 0\n",
    "\n",
    "def sum_by_index(indexes, L):\n",
    "    outp = 0\n",
    "    for i in indexes:\n",
    "        outp += L[i]\n",
    "    return outp\n",
    "\n",
    "\n",
    "def have_same_num(L1, L2):\n",
    "    for i in L1:\n",
    "        for j in L2:\n",
    "            if i == j:\n",
    "                return True\n",
    "    return False\n",
    "\n",
    "\n",
    "for i in range(1, N):\n",
    "    for j in list(it.combinations(range(N), i)):\n",
    "        combs_sweets.append(j)\n",
    "\n",
    "for i in range(K):\n",
    "    for comb in combs_sweets:\n",
    "        if sum_by_index(comb, L) < K:\n",
    "            combs_sweets.remove(comb)\n",
    "\n",
    "for i in range(len(combs_sweets)):\n",
    "    for j in range(i, len(combs_sweets)):\n",
    "        if not have_same_num(combs_sweets[i], combs_sweets[j]):\n",
    "            if len(combs_sweets[i]) + len(combs_sweets[j]) == N:\n",
    "                answer += 1\n",
    "\n",
    "print(answer * 2)"
   ]
  }
 ],
 "metadata": {
  "kernelspec": {
   "display_name": "Python 3",
   "language": "python",
   "name": "python3"
  },
  "language_info": {
   "codemirror_mode": {
    "name": "ipython",
    "version": 3
   },
   "file_extension": ".py",
   "mimetype": "text/x-python",
   "name": "python",
   "nbconvert_exporter": "python",
   "pygments_lexer": "ipython3",
   "version": "3.8.3"
  }
 },
 "nbformat": 4,
 "nbformat_minor": 4
}
