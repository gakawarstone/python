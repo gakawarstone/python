{
 "cells": [
  {
   "cell_type": "markdown",
   "id": "applicable-praise",
   "metadata": {},
   "source": [
    "## LAB2\n",
    "### Tema: Data in/out\n",
    "---"
   ]
  },
  {
   "cell_type": "code",
   "execution_count": 3,
   "id": "departmental-ratio",
   "metadata": {},
   "outputs": [
    {
     "name": "stdin",
     "output_type": "stream",
     "text": [
      "Введите целое число:  45\n"
     ]
    },
    {
     "name": "stdout",
     "output_type": "stream",
     "text": [
      "Вы ввели число: 45\n"
     ]
    }
   ],
   "source": [
    "n = int(input('Введите целое число: '))\n",
    "print('Вы ввели число:', n)\n"
   ]
  },
  {
   "cell_type": "markdown",
   "id": "german-cause",
   "metadata": {},
   "source": [
    "> simple prog read n and print n\n",
    "---"
   ]
  },
  {
   "cell_type": "markdown",
   "id": "operating-petersburg",
   "metadata": {},
   "source": [
    "## LAB3 \n",
    "### Tema: Number systems\n",
    "---"
   ]
  },
  {
   "cell_type": "code",
   "execution_count": 1,
   "id": "sunset-rendering",
   "metadata": {
    "tags": []
   },
   "outputs": [
    {
     "name": "stdout",
     "output_type": "stream",
     "text": [
      "25\n",
      "45\n",
      "5\n",
      "['0b11001', '0b101101', '0b101']\n",
      "['0o31', '0o55', '0o5']\n",
      "['0x19', '0x2d', '0x5']\n"
     ]
    }
   ],
   "source": [
    "numbers = [int(input()) for i in range(3)]\n",
    "numbers_bin = list(map(bin, numbers))\n",
    "numbers_oct = list(map(oct, numbers))\n",
    "numbers_hex = list(map(hex, numbers))\n",
    "print(numbers_bin, numbers_oct, numbers_hex, sep='\\n')\n"
   ]
  },
  {
   "cell_type": "markdown",
   "id": "attached-ethiopia",
   "metadata": {},
   "source": [
    "---\n",
    "> from decimal to bin, oct, hex\n",
    "---"
   ]
  },
  {
   "cell_type": "code",
   "execution_count": 2,
   "id": "typical-poker",
   "metadata": {},
   "outputs": [
    {
     "name": "stdout",
     "output_type": "stream",
     "text": [
      "1011001\n",
      "10111\n",
      "11111\n",
      "['0o131', '0o27', '0o37']\n",
      "[89, 23, 31]\n",
      "['0x59', '0x17', '0x1f']\n"
     ]
    }
   ],
   "source": [
    "numbers_bin = [input() for i in range(3)]\n",
    "numbers = list(map(lambda x: int(x, 2), numbers_bin))\n",
    "numbers_oct = list(map(oct, numbers))\n",
    "numbers_hex = list(map(hex, numbers))\n",
    "print(numbers_oct, numbers, numbers_hex, sep='\\n')\n"
   ]
  },
  {
   "cell_type": "markdown",
   "id": "regulation-surgeon",
   "metadata": {},
   "source": [
    "---\n",
    "> from bin to decimal, oct, hex\n",
    "---"
   ]
  },
  {
   "cell_type": "code",
   "execution_count": 4,
   "id": "reported-dress",
   "metadata": {},
   "outputs": [
    {
     "name": "stdout",
     "output_type": "stream",
     "text": [
      "12\n",
      "5\n",
      "15\n",
      "5\n"
     ]
    }
   ],
   "source": [
    "numbers_oct = [input() for i in range(2)]\n",
    "numbers = list(map(lambda x: int(x, 8), numbers_oct))\n",
    "print(sum(numbers))\n",
    "numbers_plus = [numbers[i] for i in range(len(numbers)) if i % 2 == 0]\n",
    "numbers_minus = [-numbers[i] for i in range(len(numbers)) if i % 2 == 1]\n",
    "print(sum(numbers_plus) + sum(numbers_minus))\n"
   ]
  },
  {
   "cell_type": "markdown",
   "id": "criminal-eagle",
   "metadata": {},
   "source": [
    "---\n",
    "> read two oct numbers and out sum and diff in decimal\n",
    "\n",
    ">it can be more then two numbers \n",
    "---"
   ]
  }
 ],
 "metadata": {
  "kernelspec": {
   "display_name": "Python 3",
   "language": "python",
   "name": "python3"
  },
  "language_info": {
   "codemirror_mode": {
    "name": "ipython",
    "version": 3
   },
   "file_extension": ".py",
   "mimetype": "text/x-python",
   "name": "python",
   "nbconvert_exporter": "python",
   "pygments_lexer": "ipython3",
   "version": "3.8.3"
  }
 },
 "nbformat": 4,
 "nbformat_minor": 5
}
