{
 "cells": [
  {
   "cell_type": "markdown",
   "id": "tested-citizen",
   "metadata": {},
   "source": [
    "## LAB2\n",
    "### Tema: Data in/out\n",
    "---"
   ]
  },
  {
   "cell_type": "code",
   "execution_count": 3,
   "id": "worthy-turtle",
   "metadata": {},
   "outputs": [
    {
     "name": "stdin",
     "output_type": "stream",
     "text": [
      "Введите целое число:  45\n"
     ]
    },
    {
     "name": "stdout",
     "output_type": "stream",
     "text": [
      "Вы ввели число: 45\n"
     ]
    }
   ],
   "source": [
    "n = int(input('Введите целое число: '))\n",
    "print('Вы ввели число:', n)\n"
   ]
  },
  {
   "cell_type": "markdown",
   "id": "extra-professional",
   "metadata": {},
   "source": [
    "> simple prog read n and print n\n",
    "---"
   ]
  },
  {
   "cell_type": "markdown",
   "id": "dedicated-devil",
   "metadata": {},
   "source": [
    "## LAB3 \n",
    "### Tema: Number systems\n",
    "---"
   ]
  },
  {
   "cell_type": "code",
   "execution_count": 1,
   "id": "empty-holocaust",
   "metadata": {
    "tags": []
   },
   "outputs": [
    {
     "name": "stdout",
     "output_type": "stream",
     "text": [
      "25\n",
      "45\n",
      "5\n",
      "['0b11001', '0b101101', '0b101']\n",
      "['0o31', '0o55', '0o5']\n",
      "['0x19', '0x2d', '0x5']\n"
     ]
    }
   ],
   "source": [
    "numbers = [int(input()) for i in range(3)]\n",
    "numbers_bin = list(map(bin, numbers))\n",
    "numbers_oct = list(map(oct, numbers))\n",
    "numbers_hex = list(map(hex, numbers))\n",
    "print(numbers_bin, numbers_oct, numbers_hex, sep='\\n')\n"
   ]
  },
  {
   "cell_type": "markdown",
   "id": "amber-ranking",
   "metadata": {},
   "source": [
    "---\n",
    "> from decimal to bin, oct, hex\n",
    "---"
   ]
  },
  {
   "cell_type": "code",
   "execution_count": 2,
   "id": "killing-surveillance",
   "metadata": {},
   "outputs": [
    {
     "name": "stdout",
     "output_type": "stream",
     "text": [
      "1011001\n",
      "10111\n",
      "11111\n",
      "['0o131', '0o27', '0o37']\n",
      "[89, 23, 31]\n",
      "['0x59', '0x17', '0x1f']\n"
     ]
    }
   ],
   "source": [
    "numbers_bin = [input() for i in range(3)]\n",
    "numbers = list(map(lambda x: int(x, 2), numbers_bin))\n",
    "numbers_oct = list(map(oct, numbers))\n",
    "numbers_hex = list(map(hex, numbers))\n",
    "print(numbers_oct, numbers, numbers_hex, sep='\\n')\n"
   ]
  },
  {
   "cell_type": "markdown",
   "id": "caroline-adobe",
   "metadata": {},
   "source": [
    "---\n",
    "> from bin to decimal, oct, hex\n",
    "---"
   ]
  },
  {
   "cell_type": "code",
   "execution_count": 4,
   "id": "solar-serial",
   "metadata": {},
   "outputs": [
    {
     "name": "stdout",
     "output_type": "stream",
     "text": [
      "12\n",
      "5\n",
      "15\n",
      "5\n"
     ]
    }
   ],
   "source": [
    "numbers_oct = [input() for i in range(2)]\n",
    "numbers = list(map(lambda x: int(x, 8), numbers_oct))\n",
    "print(sum(numbers))\n",
    "numbers_plus = [numbers[i] for i in range(len(numbers)) if i % 2 == 0]\n",
    "numbers_minus = [-numbers[i] for i in range(len(numbers)) if i % 2 == 1]\n",
    "print(sum(numbers_plus) + sum(numbers_minus))\n"
   ]
  },
  {
   "cell_type": "markdown",
   "id": "alternative-emerald",
   "metadata": {},
   "source": [
    "---\n",
    "> read two oct numbers and out sum and diff in decimal\n",
    "\n",
    ">it can be more then two numbers \n",
    "---"
   ]
  },
  {
   "cell_type": "markdown",
   "id": "capital-guarantee",
   "metadata": {},
   "source": [
    "## LAB4 \n",
    "### Tema: Constructions\n",
    "---"
   ]
  },
  {
   "cell_type": "code",
   "execution_count": 5,
   "id": "tender-activity",
   "metadata": {},
   "outputs": [
    {
     "name": "stdin",
     "output_type": "stream",
     "text": [
      " 2\n",
      " 2\n",
      " 5\n",
      " 5\n"
     ]
    },
    {
     "name": "stdout",
     "output_type": "stream",
     "text": [
      "NO\n"
     ]
    }
   ],
   "source": [
    "pos_1 = [int(input()) for i in range(2)]\n",
    "pos_2 = [int(input()) for i in range(2)]\n",
    "s = ((pos_2[0] - pos_1[0]) ** 2 + (pos_2[0] - pos_1[0]) ** 2) ** 0.5\n",
    "if s < 2:\n",
    "    print(\"YES\")\n",
    "else:\n",
    "    print(\"NO\")\n"
   ]
  },
  {
   "cell_type": "markdown",
   "id": "improving-ladder",
   "metadata": {},
   "source": [
    "> chess prog: check if king can hit this pos\n",
    "---"
   ]
  },
  {
   "cell_type": "markdown",
   "id": "signal-india",
   "metadata": {},
   "source": [
    "## LAB5 \n",
    "### Tema: Calculations\n",
    "---"
   ]
  },
  {
   "cell_type": "code",
   "execution_count": 6,
   "id": "south-damages",
   "metadata": {},
   "outputs": [
    {
     "name": "stdin",
     "output_type": "stream",
     "text": [
      " 20\n",
      " 20\n"
     ]
    },
    {
     "name": "stdout",
     "output_type": "stream",
     "text": [
      "1\n"
     ]
    }
   ],
   "source": [
    "(n, m) = (int(input()) for i in range(2))\n",
    "if m % n == 0:\n",
    "    print(m // n)\n",
    "else:\n",
    "    print(m // n + 1)\n"
   ]
  },
  {
   "cell_type": "markdown",
   "id": "minus-bulletin",
   "metadata": {},
   "source": [
    "> n - car speed kilolmetrs per day\n",
    "\n",
    "> m - kilometrs we want to pass\n",
    "\n",
    "> algo: check if m diff n else round in a big way\n",
    "---"
   ]
  },
  {
   "cell_type": "markdown",
   "id": "technical-render",
   "metadata": {},
   "source": [
    "## LAB6 \n",
    "### Tema: Conditions\n",
    "---"
   ]
  },
  {
   "cell_type": "code",
   "execution_count": 9,
   "id": "breeding-powell",
   "metadata": {},
   "outputs": [
    {
     "name": "stdin",
     "output_type": "stream",
     "text": [
      " 5\n",
      " 4\n",
      " 7\n"
     ]
    },
    {
     "name": "stdout",
     "output_type": "stream",
     "text": [
      "24.948376395379135\n"
     ]
    }
   ],
   "source": [
    "(n, b2, b5) = (int(input()) for i in range(3))\n",
    "g = (b5 / b2) ** (1 / 3)\n",
    "b1 = b2 / g\n",
    "s = (b1 * (g ** n - 1)) / (g - 1)\n",
    "print(s)\n"
   ]
  },
  {
   "cell_type": "markdown",
   "id": "ambient-swimming",
   "metadata": {},
   "source": [
    "> sum of geometry pogression from n b2 b5\n",
    "---"
   ]
  },
  {
   "cell_type": "code",
   "execution_count": null,
   "id": "induced-sugar",
   "metadata": {},
   "outputs": [],
   "source": [
    "(a, b, c) = [[int(input()) for i in range(2)] for i in range(3)]\n",
    "x = (a[0] + b[0] + c[0]) / 3\n",
    "y = (a[1] + b[1] + c[1]) / 3\n",
    "print(x, y)\n"
   ]
  },
  {
   "cell_type": "markdown",
   "id": "massive-advocacy",
   "metadata": {},
   "source": [
    "> coord of point of symmetry of triangle\n",
    "---"
   ]
  },
  {
   "cell_type": "code",
   "execution_count": 11,
   "id": "amateur-mount",
   "metadata": {},
   "outputs": [
    {
     "name": "stdin",
     "output_type": "stream",
     "text": [
      " 2\n"
     ]
    },
    {
     "name": "stdout",
     "output_type": "stream",
     "text": [
      "positive\n"
     ]
    }
   ],
   "source": [
    "n = int(input())\n",
    "if n > 4/3:\n",
    "    print('positive')\n",
    "else:\n",
    "    print('negative')\n"
   ]
  },
  {
   "cell_type": "markdown",
   "id": "dominican-tumor",
   "metadata": {},
   "source": [
    "> (3x - 4) / 2 >= 0 \n",
    "---"
   ]
  },
  {
   "cell_type": "code",
   "execution_count": 12,
   "id": "medieval-elephant",
   "metadata": {},
   "outputs": [
    {
     "name": "stdin",
     "output_type": "stream",
     "text": [
      " 2\n",
      " 5\n"
     ]
    },
    {
     "name": "stdout",
     "output_type": "stream",
     "text": [
      "3.5 3.1622776601683795\n",
      "arithmetic more than geometry\n"
     ]
    }
   ],
   "source": [
    "(x, y) = (int(input()) for i in range(2))\n",
    "mid_a = (x + y) / 2\n",
    "mid_g = (x * y) ** 0.5\n",
    "print(mid_a, mid_g)\n",
    "if mid_a > mid_g:\n",
    "    print('arithmetic more than geometry')\n",
    "elif mid_a < mid_g:\n",
    "    print('arithmetic less than geometry')\n",
    "else:\n",
    "    print('arithmetic equal geometry')\n"
   ]
  },
  {
   "cell_type": "markdown",
   "id": "falling-official",
   "metadata": {},
   "source": [
    "> compare arithmetic mid and geometry mid\n",
    "---"
   ]
  },
  {
   "cell_type": "code",
   "execution_count": 16,
   "id": "herbal-relaxation",
   "metadata": {},
   "outputs": [
    {
     "name": "stdin",
     "output_type": "stream",
     "text": [
      " 1\n",
      " 2\n",
      " 3\n",
      " 4\n",
      " 5\n",
      " 6\n"
     ]
    },
    {
     "name": "stdout",
     "output_type": "stream",
     "text": [
      "False\n"
     ]
    }
   ],
   "source": [
    "numbers = [int(input()) for i in range(6)]\n",
    "logic = False\n",
    "\n",
    "for i in range(len(numbers)):\n",
    "    if numbers[i] + numbers[i-1] == 8:\n",
    "        logic = True\n",
    "\n",
    "print(logic)\n"
   ]
  },
  {
   "cell_type": "markdown",
   "id": "completed-alias",
   "metadata": {},
   "source": [
    "> search for pair of num which sum is 8\n",
    "---"
   ]
  },
  {
   "cell_type": "markdown",
   "id": "twelve-optics",
   "metadata": {},
   "source": [
    "## LAB7 \n",
    "### Tema: Conditions\n",
    "---"
   ]
  },
  {
   "cell_type": "code",
   "execution_count": 17,
   "id": "apparent-renewal",
   "metadata": {},
   "outputs": [
    {
     "name": "stdin",
     "output_type": "stream",
     "text": [
      " 5\n",
      " 1\n",
      " 2\n",
      " 3\n",
      " 4\n",
      " 5\n"
     ]
    },
    {
     "name": "stdout",
     "output_type": "stream",
     "text": [
      "15\n"
     ]
    }
   ],
   "source": [
    "print(sum([int(input()) for i in range(int(input()))]))\n"
   ]
  },
  {
   "cell_type": "markdown",
   "id": "excellent-warrant",
   "metadata": {},
   "source": [
    "> return sum of n numbers\n",
    "\n",
    "> first you write n then numers\n",
    "---"
   ]
  },
  {
   "cell_type": "markdown",
   "id": "ethical-sender",
   "metadata": {},
   "source": [
    "## LAB8 \n",
    "### Tema: Str\n",
    "---"
   ]
  },
  {
   "cell_type": "code",
   "execution_count": 19,
   "id": "assisted-dealer",
   "metadata": {},
   "outputs": [
    {
     "name": "stdin",
     "output_type": "stream",
     "text": [
      " 123h321h321h123\n"
     ]
    },
    {
     "name": "stdout",
     "output_type": "stream",
     "text": [
      "123h123\n"
     ]
    }
   ],
   "source": [
    "word = list(map(lambda x: x[:: -1], input().split('h')[1: -1]))\n",
    "word.reverse()\n",
    "print(*word, sep='h')\n"
   ]
  },
  {
   "cell_type": "markdown",
   "id": "tropical-bargain",
   "metadata": {},
   "source": [
    "> read str, split with h, cut first and last item of list, print list with sep h \n",
    "---"
   ]
  },
  {
   "cell_type": "markdown",
   "id": "amber-alexandria",
   "metadata": {},
   "source": [
    "## LAB9 \n",
    "### Tema: While\n",
    "---"
   ]
  },
  {
   "cell_type": "code",
   "execution_count": 20,
   "id": "animated-blood",
   "metadata": {},
   "outputs": [
    {
     "name": "stdin",
     "output_type": "stream",
     "text": [
      " 1\n",
      " 2\n",
      " 3\n",
      " 4\n",
      " 0\n"
     ]
    },
    {
     "name": "stdout",
     "output_type": "stream",
     "text": [
      "4\n"
     ]
    }
   ],
   "source": [
    "cnt = 0\n",
    "while 1:\n",
    "    n = int(input())\n",
    "    if n == 0:\n",
    "        break\n",
    "    cnt += 1\n",
    "print(cnt)\n"
   ]
  },
  {
   "cell_type": "markdown",
   "id": "listed-insulation",
   "metadata": {},
   "source": [
    "> read numbers while num is not 0\n",
    "\n",
    "> print cnt of numbers\n",
    "---"
   ]
  },
  {
   "cell_type": "markdown",
   "id": "stone-orange",
   "metadata": {},
   "source": [
    "## LAB10 \n",
    "### Tema: List\n",
    "---"
   ]
  },
  {
   "cell_type": "code",
   "execution_count": 1,
   "id": "dense-steal",
   "metadata": {},
   "outputs": [
    {
     "name": "stdin",
     "output_type": "stream",
     "text": [
      " 2 2 4 4 6 6\n"
     ]
    },
    {
     "name": "stdout",
     "output_type": "stream",
     "text": [
      "3\n"
     ]
    }
   ],
   "source": [
    "L = [int(i) for i in input().split()]\n",
    "cnt = 0\n",
    "\n",
    "for i in range(len(L) - 1):\n",
    "    for j in range(i + 1, len(L)):\n",
    "        if L[i] == L[j]:\n",
    "            cnt += 1\n",
    "\n",
    "print(cnt)"
   ]
  },
  {
   "cell_type": "markdown",
   "id": "violent-belfast",
   "metadata": {},
   "source": [
    "> count pairs\n",
    "\n",
    "---"
   ]
  },
  {
   "cell_type": "markdown",
   "id": "subject-commercial",
   "metadata": {},
   "source": [
    "## LAB11 \n",
    "### Tema: Func and recurtion\n",
    "---"
   ]
  },
  {
   "cell_type": "code",
   "execution_count": 24,
   "id": "bronze-force",
   "metadata": {},
   "outputs": [],
   "source": [
    "def power(a, n):\n",
    "    if n == 0:\n",
    "        return 1\n",
    "    if n % 2 == 0:\n",
    "        return power(a*a, n // 2)\n",
    "    else:\n",
    "        return a * power(a, n - 1)"
   ]
  },
  {
   "cell_type": "code",
   "execution_count": 26,
   "id": "early-tunnel",
   "metadata": {},
   "outputs": [
    {
     "name": "stdout",
     "output_type": "stream",
     "text": [
      "125\n"
     ]
    }
   ],
   "source": [
    "print(power(5, 3))"
   ]
  },
  {
   "cell_type": "markdown",
   "id": "social-gasoline",
   "metadata": {},
   "source": [
    "## LAB12 \n",
    "### Tema: Two-dimensional array\n",
    "---"
   ]
  },
  {
   "cell_type": "code",
   "execution_count": 37,
   "id": "removed-wales",
   "metadata": {},
   "outputs": [],
   "source": [
    "def create_list(n):\n",
    "    L = []\n",
    "    for i in range(n):\n",
    "        L.append([])\n",
    "        for j in range(n):\n",
    "            L[i].append('-')\n",
    "    return L\n"
   ]
  },
  {
   "cell_type": "code",
   "execution_count": 38,
   "id": "hairy-cisco",
   "metadata": {},
   "outputs": [],
   "source": [
    "def print_list(L):\n",
    "    for i in range(len(L)):\n",
    "        print(*L[i])"
   ]
  },
  {
   "cell_type": "code",
   "execution_count": 41,
   "id": "prepared-panama",
   "metadata": {},
   "outputs": [
    {
     "name": "stdin",
     "output_type": "stream",
     "text": [
      " 10\n"
     ]
    },
    {
     "name": "stdout",
     "output_type": "stream",
     "text": [
      "0 1 2 3 4 5 6 7 8 9\n",
      "1 0 1 2 3 4 5 6 7 8\n",
      "2 1 0 1 2 3 4 5 6 7\n",
      "3 2 1 0 1 2 3 4 5 6\n",
      "4 3 2 1 0 1 2 3 4 5\n",
      "5 4 3 2 1 0 1 2 3 4\n",
      "6 5 4 3 2 1 0 1 2 3\n",
      "7 6 5 4 3 2 1 0 1 2\n",
      "8 7 6 5 4 3 2 1 0 1\n",
      "9 8 7 6 5 4 3 2 1 0\n"
     ]
    }
   ],
   "source": [
    "n = int(input())\n",
    "L = create_list(n)\n",
    "\n",
    "for i in range(n):\n",
    "    for j in range(n):\n",
    "        L[i][j] = abs(i - j)\n",
    "\n",
    "print_list(L)"
   ]
  },
  {
   "cell_type": "markdown",
   "id": "natural-villa",
   "metadata": {},
   "source": [
    "## LAB13 \n",
    "### Tema: Circle mass\n",
    "---"
   ]
  },
  {
   "cell_type": "code",
   "execution_count": 1,
   "id": "confused-clearance",
   "metadata": {},
   "outputs": [
    {
     "name": "stdout",
     "output_type": "stream",
     "text": [
      "8\n"
     ]
    }
   ],
   "source": [
    "def x(y):\n",
    "    if y == 1 or y == 2 or y == 3:\n",
    "        return 1\n",
    "    else:\n",
    "        return x(y - 1) + x(y - 3)\n",
    "\n",
    "def s(a):\n",
    "    outp = 0\n",
    "    for i in range(1, a + 1):\n",
    "        outp += x(i)\n",
    "    return outp\n",
    "\n",
    "print(s(5))"
   ]
  },
  {
   "cell_type": "code",
   "execution_count": 2,
   "id": "dressed-indie",
   "metadata": {},
   "outputs": [
    {
     "name": "stdout",
     "output_type": "stream",
     "text": [
      "95 79 73 47 1 50 38 69 93 73\n"
     ]
    }
   ],
   "source": [
    "import random\n",
    "mass = [random.randint(0, 100) for i in range(10)]\n",
    "\n",
    "for i in range(len(mass) // 2):\n",
    "    tmp = mass[i]\n",
    "    mass[i] = mass[-(i + 1)]\n",
    "    mass[-(i + 1)] = tmp\n",
    "\n",
    "print(*mass)"
   ]
  },
  {
   "cell_type": "code",
   "execution_count": 5,
   "id": "rising-kennedy",
   "metadata": {},
   "outputs": [
    {
     "name": "stdout",
     "output_type": "stream",
     "text": [
      "7 51 11 97 64 7 34 7 57 39 78 10 16 81 2 62 65 54 82 "
     ]
    }
   ],
   "source": [
    "import random\n",
    "mass = [random.randint(0, 100) for i in range(100)]\n",
    "\n",
    "for i in range(len(mass)):\n",
    "    if '2' in str(i):\n",
    "        print(mass[i], end=' ')\n"
   ]
  },
  {
   "cell_type": "code",
   "execution_count": 40,
   "id": "terminal-union",
   "metadata": {},
   "outputs": [
    {
     "name": "stdin",
     "output_type": "stream",
     "text": [
      " 2\n",
      " 1 2\n",
      " 1 2\n",
      " 1\n"
     ]
    },
    {
     "name": "stdout",
     "output_type": "stream",
     "text": [
      "[1, 2] [1, 2]\n",
      "[0, 0] [2, 1]\n"
     ]
    }
   ],
   "source": [
    "n = int(input())\n",
    "L = [[int(i) for i in input().split()] for i in range(n)]\n",
    "k = int(input())\n",
    "\n",
    "print(*L)\n",
    "\n",
    "for line in range(len(L)):\n",
    "    if line < k:\n",
    "        for elem in range(len(L[line])):\n",
    "            L[line][elem] = 0\n",
    "    else:\n",
    "        L[line].sort(reverse=True)\n",
    "            \n",
    "print(*L)"
   ]
  },
  {
   "cell_type": "code",
   "execution_count": 6,
   "id": "numeric-values",
   "metadata": {},
   "outputs": [
    {
     "name": "stdout",
     "output_type": "stream",
     "text": [
      "[0, -53, -77, 0] [-51, -62, -70, -17] [0, 0, 0, 0] [-52, -10, -74, 0]\n"
     ]
    }
   ],
   "source": [
    "import random\n",
    "\n",
    "L = [[random.randint(-100, 100) for i in range(4)] for i in range(4)]\n",
    "mid_g = 0\n",
    "\n",
    "for i in range(4):\n",
    "    for j in range(4):\n",
    "        if i == j:\n",
    "            mid_g += L[i][j] ** 2\n",
    "\n",
    "mid_g /= 4\n",
    "\n",
    "max_dio = [0, 0, 0]\n",
    "\n",
    "for i in range(4):\n",
    "    for j in range(4):\n",
    "        if 3 - i == j:\n",
    "            if L[i][j] > max_dio[0]:\n",
    "                max_dio = [L[i][j], i, j]\n",
    "\n",
    "L[max_dio[1]][max_dio[2]] = mid_g\n",
    "\n",
    "for i in range(4):\n",
    "    for j in range(4):\n",
    "        if L[i][j] > 0:\n",
    "            L[i][j] = 0\n",
    "\n",
    "print(*L)"
   ]
  },
  {
   "cell_type": "markdown",
   "id": "artistic-jacksonville",
   "metadata": {},
   "source": [
    "## LAB14 \n",
    "### Tema: Many\n",
    "---"
   ]
  },
  {
   "cell_type": "code",
   "execution_count": 3,
   "id": "informed-wednesday",
   "metadata": {},
   "outputs": [
    {
     "name": "stdin",
     "output_type": "stream",
     "text": [
      " 10\n",
      " 2 3 4 5\n"
     ]
    },
    {
     "name": "stdout",
     "output_type": "stream",
     "text": [
      "NO\n"
     ]
    },
    {
     "name": "stdin",
     "output_type": "stream",
     "text": [
      " 1 6\n"
     ]
    },
    {
     "name": "stdout",
     "output_type": "stream",
     "text": [
      "NO\n"
     ]
    },
    {
     "name": "stdin",
     "output_type": "stream",
     "text": [
      " 7\n"
     ]
    },
    {
     "name": "stdout",
     "output_type": "stream",
     "text": [
      "YES\n"
     ]
    },
    {
     "name": "stdin",
     "output_type": "stream",
     "text": [
      " 7\n"
     ]
    },
    {
     "name": "stdout",
     "output_type": "stream",
     "text": [
      "YES\n"
     ]
    },
    {
     "name": "stdin",
     "output_type": "stream",
     "text": [
      " 7\n"
     ]
    },
    {
     "name": "stdout",
     "output_type": "stream",
     "text": [
      "YES\n"
     ]
    }
   ],
   "source": [
    "n = int(input())\n",
    "game_bool = False\n",
    "game = [0 for i in range(1, n + 1)]\n",
    "game[random.randint(0, n)] = 2\n",
    "\n",
    "for i in range(5):\n",
    "    game_bool = False\n",
    "    check = [int(i) for i in input().split()]\n",
    "    for i in check:\n",
    "        if game[i - 1] == 0:\n",
    "            game[i - 1] = 1\n",
    "        if game[i - 1] == 2:\n",
    "            game_bool = True\n",
    "    if game_bool == True:\n",
    "        print('YES')\n",
    "    if game_bool == False:\n",
    "        print('NO')\n",
    "\n",
    "for i in range(n):\n",
    "    if game_bool != True and (game[i] == 0 or game[i] == 2):\n",
    "        print(i + 1, end=' ')"
   ]
  },
  {
   "cell_type": "markdown",
   "id": "reasonable-notification",
   "metadata": {},
   "source": [
    "## LAB15 \n",
    "### Tema: Files\n",
    "---"
   ]
  },
  {
   "cell_type": "code",
   "execution_count": 9,
   "id": "velvet-lesson",
   "metadata": {},
   "outputs": [
    {
     "name": "stdout",
     "output_type": "stream",
     "text": [
      "0\n"
     ]
    }
   ],
   "source": [
    "L = []\n",
    "\n",
    "with open(\"untitled.txt\") as file:\n",
    "    for line in file:\n",
    "        for char in line:\n",
    "            if char != ' ':\n",
    "                L.append(char)\n",
    "\n",
    "print(min(L))"
   ]
  },
  {
   "cell_type": "code",
   "execution_count": 10,
   "id": "diagnostic-flavor",
   "metadata": {},
   "outputs": [],
   "source": [
    "L = []\n",
    "\n",
    "with open(\"untitled.txt\") as file:\n",
    "    for line in file:\n",
    "        for char in line:\n",
    "            if char != ' ':\n",
    "                L.append(char)\n",
    "\n",
    "with open(\"untitled.txt\", 'w') as file:\n",
    "    for ch in L:\n",
    "        if ch == '?':\n",
    "            file.write('0')\n",
    "        else:\n",
    "            file.write(ch)\n"
   ]
  },
  {
   "cell_type": "code",
   "execution_count": 11,
   "id": "liberal-strip",
   "metadata": {},
   "outputs": [
    {
     "ename": "FileNotFoundError",
     "evalue": "[Errno 2] No such file or directory: '1.txt'",
     "output_type": "error",
     "traceback": [
      "\u001b[0;31m---------------------------------------------------------------------------\u001b[0m",
      "\u001b[0;31mFileNotFoundError\u001b[0m                         Traceback (most recent call last)",
      "\u001b[0;32m<ipython-input-11-fd5ac969e7b3>\u001b[0m in \u001b[0;36m<module>\u001b[0;34m\u001b[0m\n\u001b[0;32m----> 1\u001b[0;31m \u001b[0;32mwith\u001b[0m \u001b[0mopen\u001b[0m\u001b[0;34m(\u001b[0m\u001b[0;34m\"1.txt\"\u001b[0m\u001b[0;34m)\u001b[0m \u001b[0;32mas\u001b[0m \u001b[0mfile\u001b[0m\u001b[0;34m:\u001b[0m\u001b[0;34m\u001b[0m\u001b[0;34m\u001b[0m\u001b[0m\n\u001b[0m\u001b[1;32m      2\u001b[0m     \u001b[0;32mfor\u001b[0m \u001b[0mline\u001b[0m \u001b[0;32min\u001b[0m \u001b[0mfile\u001b[0m\u001b[0;34m:\u001b[0m\u001b[0;34m\u001b[0m\u001b[0;34m\u001b[0m\u001b[0m\n\u001b[1;32m      3\u001b[0m         \u001b[0;32mfor\u001b[0m \u001b[0mchar\u001b[0m \u001b[0;32min\u001b[0m \u001b[0mline\u001b[0m\u001b[0;34m:\u001b[0m\u001b[0;34m\u001b[0m\u001b[0;34m\u001b[0m\u001b[0m\n\u001b[1;32m      4\u001b[0m             \u001b[0;32mif\u001b[0m \u001b[0mchar\u001b[0m \u001b[0;34m!=\u001b[0m \u001b[0;34m' '\u001b[0m\u001b[0;34m:\u001b[0m\u001b[0;34m\u001b[0m\u001b[0;34m\u001b[0m\u001b[0m\n\u001b[1;32m      5\u001b[0m                 \u001b[0mL\u001b[0m\u001b[0;34m.\u001b[0m\u001b[0mappend\u001b[0m\u001b[0;34m(\u001b[0m\u001b[0mchar\u001b[0m\u001b[0;34m)\u001b[0m\u001b[0;34m\u001b[0m\u001b[0;34m\u001b[0m\u001b[0m\n",
      "\u001b[0;31mFileNotFoundError\u001b[0m: [Errno 2] No such file or directory: '1.txt'"
     ]
    }
   ],
   "source": [
    "with open(\"1.txt\") as file:\n",
    "    for line in file:\n",
    "        for char in line:\n",
    "            if char != ' ':\n",
    "                L.append(char)\n",
    "\n",
    "with open(\"2.txt\", 'w') as file:\n",
    "    for ch in L:\n",
    "        if ch ** 0.5 % 2 == 0:\n",
    "            file.write(ch)\n"
   ]
  },
  {
   "cell_type": "markdown",
   "id": "circular-brush",
   "metadata": {},
   "source": [
    "## LAB16 \n",
    "### Tema: Graph\n",
    "---"
   ]
  },
  {
   "cell_type": "code",
   "execution_count": 16,
   "id": "negative-template",
   "metadata": {},
   "outputs": [
    {
     "data": {
      "image/png": "[encoded data removed]",
      "text/plain": [
       "<Figure size 432x288 with 1 Axes>"
      ]
     },
     "metadata": {
      "needs_background": "light"
     },
     "output_type": "display_data"
    }
   ],
   "source": [
    "import numpy as np\n",
    "import matplotlib.pyplot as plt\n",
    "\n",
    "\n",
    "def f(x):\n",
    "    return x / (2 * x ** 2 + 3 * x + 1)\n",
    "\n",
    "\n",
    "t = np.arange(0, 10, 1)\n",
    "y = f(t)\n",
    "plt.plot(t, y)\n",
    "plt.show()"
   ]
  },
  {
   "cell_type": "code",
   "execution_count": 7,
   "id": "bronze-parts",
   "metadata": {},
   "outputs": [],
   "source": [
    "import tkinter as tk\n",
    "tk.root = tk.Tk()\n",
    "\n",
    "c = tk.Canvas(tk.root, width=200, height=200, bg='white')\n",
    "c.pack() \n",
    " \n",
    "c.create_rectangle(0, 0, 100, 100, fill='black')\n",
    "c.create_rectangle(100, 100, 200, 200, fill='black')\n",
    " \n",
    "tk.root.mainloop()"
   ]
  },
  {
   "cell_type": "code",
   "execution_count": 8,
   "id": "interim-peoples",
   "metadata": {},
   "outputs": [],
   "source": [
    "import tkinter as tk\n",
    "tk.root = tk.Tk()\n",
    "\n",
    "c = tk.Canvas(tk.root, width=200, height=200, bg='white')\n",
    "c.pack() \n",
    " \n",
    "c.create_oval(0, 0, 100, 150, fill='red', width=0)\n",
    "c.create_oval(50, 0, 150, 150, fill='red', width=0)\n",
    "c.create_oval(0, 100, 100, 200, fill='red', width=0)\n",
    "c.create_oval(50, 100, 150, 200, fill='red', width=0)\n",
    "\n",
    "tk.root.mainloop()"
   ]
  }
 ],
 "metadata": {
  "kernelspec": {
   "display_name": "Python 3",
   "language": "python",
   "name": "python3"
  },
  "language_info": {
   "codemirror_mode": {
    "name": "ipython",
    "version": 3
   },
   "file_extension": ".py",
   "mimetype": "text/x-python",
   "name": "python",
   "nbconvert_exporter": "python",
   "pygments_lexer": "ipython3",
   "version": "3.8.3"
  }
 },
 "nbformat": 4,
 "nbformat_minor": 5
}
