{
 "cells": [
  {
   "cell_type": "markdown",
   "id": "destroyed-plymouth",
   "metadata": {},
   "source": [
    "## LAB2\n",
    "### Tema: Data in/out\n",
    "---"
   ]
  },
  {
   "cell_type": "code",
   "execution_count": 3,
   "id": "global-victoria",
   "metadata": {},
   "outputs": [
    {
     "name": "stdin",
     "output_type": "stream",
     "text": [
      "Введите целое число:  45\n"
     ]
    },
    {
     "name": "stdout",
     "output_type": "stream",
     "text": [
      "Вы ввели число: 45\n"
     ]
    }
   ],
   "source": [
    "n = int(input('Введите целое число: '))\n",
    "print('Вы ввели число:', n)\n"
   ]
  },
  {
   "cell_type": "markdown",
   "id": "significant-wheat",
   "metadata": {},
   "source": [
    "> simple prog read n and print n\n",
    "---"
   ]
  },
  {
   "cell_type": "markdown",
   "id": "removed-dance",
   "metadata": {},
   "source": [
    "## LAB3 \n",
    "### Tema: Number systems\n",
    "---"
   ]
  },
  {
   "cell_type": "code",
   "execution_count": 1,
   "id": "computational-tuning",
   "metadata": {
    "tags": []
   },
   "outputs": [
    {
     "name": "stdout",
     "output_type": "stream",
     "text": [
      "25\n",
      "45\n",
      "5\n",
      "['0b11001', '0b101101', '0b101']\n",
      "['0o31', '0o55', '0o5']\n",
      "['0x19', '0x2d', '0x5']\n"
     ]
    }
   ],
   "source": [
    "numbers = [int(input()) for i in range(3)]\n",
    "numbers_bin = list(map(bin, numbers))\n",
    "numbers_oct = list(map(oct, numbers))\n",
    "numbers_hex = list(map(hex, numbers))\n",
    "print(numbers_bin, numbers_oct, numbers_hex, sep='\\n')\n"
   ]
  },
  {
   "cell_type": "markdown",
   "id": "confidential-donna",
   "metadata": {},
   "source": [
    "---\n",
    "> from decimal to bin, oct, hex\n",
    "---"
   ]
  },
  {
   "cell_type": "code",
   "execution_count": 2,
   "id": "cosmetic-fluid",
   "metadata": {},
   "outputs": [
    {
     "name": "stdout",
     "output_type": "stream",
     "text": [
      "1011001\n",
      "10111\n",
      "11111\n",
      "['0o131', '0o27', '0o37']\n",
      "[89, 23, 31]\n",
      "['0x59', '0x17', '0x1f']\n"
     ]
    }
   ],
   "source": [
    "numbers_bin = [input() for i in range(3)]\n",
    "numbers = list(map(lambda x: int(x, 2), numbers_bin))\n",
    "numbers_oct = list(map(oct, numbers))\n",
    "numbers_hex = list(map(hex, numbers))\n",
    "print(numbers_oct, numbers, numbers_hex, sep='\\n')\n"
   ]
  },
  {
   "cell_type": "markdown",
   "id": "junior-amplifier",
   "metadata": {},
   "source": [
    "---\n",
    "> from bin to decimal, oct, hex\n",
    "---"
   ]
  },
  {
   "cell_type": "code",
   "execution_count": 4,
   "id": "imperial-revolution",
   "metadata": {},
   "outputs": [
    {
     "name": "stdout",
     "output_type": "stream",
     "text": [
      "12\n",
      "5\n",
      "15\n",
      "5\n"
     ]
    }
   ],
   "source": [
    "numbers_oct = [input() for i in range(2)]\n",
    "numbers = list(map(lambda x: int(x, 8), numbers_oct))\n",
    "print(sum(numbers))\n",
    "numbers_plus = [numbers[i] for i in range(len(numbers)) if i % 2 == 0]\n",
    "numbers_minus = [-numbers[i] for i in range(len(numbers)) if i % 2 == 1]\n",
    "print(sum(numbers_plus) + sum(numbers_minus))\n"
   ]
  },
  {
   "cell_type": "markdown",
   "id": "grand-christmas",
   "metadata": {},
   "source": [
    "---\n",
    "> read two oct numbers and out sum and diff in decimal\n",
    "\n",
    ">it can be more then two numbers \n",
    "---"
   ]
  },
  {
   "cell_type": "markdown",
   "id": "controlling-receptor",
   "metadata": {},
   "source": [
    "## LAB4 \n",
    "### Tema: Constructions\n",
    "---"
   ]
  },
  {
   "cell_type": "code",
   "execution_count": 5,
   "id": "absolute-bottle",
   "metadata": {},
   "outputs": [
    {
     "name": "stdin",
     "output_type": "stream",
     "text": [
      " 2\n",
      " 2\n",
      " 5\n",
      " 5\n"
     ]
    },
    {
     "name": "stdout",
     "output_type": "stream",
     "text": [
      "NO\n"
     ]
    }
   ],
   "source": [
    "pos_1 = [int(input()) for i in range(2)]\n",
    "pos_2 = [int(input()) for i in range(2)]\n",
    "s = ((pos_2[0] - pos_1[0]) ** 2 + (pos_2[0] - pos_1[0]) ** 2) ** 0.5\n",
    "if s < 2:\n",
    "    print(\"YES\")\n",
    "else:\n",
    "    print(\"NO\")\n"
   ]
  },
  {
   "cell_type": "markdown",
   "id": "effective-history",
   "metadata": {},
   "source": [
    "> chess prog: check if king can hit this pos\n",
    "---"
   ]
  },
  {
   "cell_type": "markdown",
   "id": "honey-domestic",
   "metadata": {},
   "source": [
    "## LAB5 \n",
    "### Tema: Calculations\n",
    "---"
   ]
  },
  {
   "cell_type": "code",
   "execution_count": 6,
   "id": "compact-prince",
   "metadata": {},
   "outputs": [
    {
     "name": "stdin",
     "output_type": "stream",
     "text": [
      " 20\n",
      " 20\n"
     ]
    },
    {
     "name": "stdout",
     "output_type": "stream",
     "text": [
      "1\n"
     ]
    }
   ],
   "source": [
    "(n, m) = (int(input()) for i in range(2))\n",
    "if m % n == 0:\n",
    "    print(m // n)\n",
    "else:\n",
    "    print(m // n + 1)\n"
   ]
  },
  {
   "cell_type": "markdown",
   "id": "stylish-folder",
   "metadata": {},
   "source": [
    "> n - car speed kilolmetrs per day\n",
    "\n",
    "> m - kilometrs we want to pass\n",
    "\n",
    "> algo: check if m diff n else round in a big way\n",
    "---"
   ]
  },
  {
   "cell_type": "markdown",
   "id": "recent-stand",
   "metadata": {},
   "source": [
    "## LAB6 \n",
    "### Tema: Conditions\n",
    "---"
   ]
  },
  {
   "cell_type": "code",
   "execution_count": 9,
   "id": "relative-bhutan",
   "metadata": {},
   "outputs": [
    {
     "name": "stdin",
     "output_type": "stream",
     "text": [
      " 5\n",
      " 4\n",
      " 7\n"
     ]
    },
    {
     "name": "stdout",
     "output_type": "stream",
     "text": [
      "24.948376395379135\n"
     ]
    }
   ],
   "source": [
    "(n, b2, b5) = (int(input()) for i in range(3))\n",
    "g = (b5 / b2) ** (1 / 3)\n",
    "b1 = b2 / g\n",
    "s = (b1 * (g ** n - 1)) / (g - 1)\n",
    "print(s)\n"
   ]
  },
  {
   "cell_type": "markdown",
   "id": "lonely-times",
   "metadata": {},
   "source": [
    "> sum of geometry pogression from n b2 b5\n",
    "---"
   ]
  },
  {
   "cell_type": "code",
   "execution_count": null,
   "id": "periodic-massachusetts",
   "metadata": {},
   "outputs": [],
   "source": [
    "(a, b, c) = [[int(input()) for i in range(2)] for i in range(3)]\n",
    "x = (a[0] + b[0] + c[0]) / 3\n",
    "y = (a[1] + b[1] + c[1]) / 3\n",
    "print(x, y)\n"
   ]
  },
  {
   "cell_type": "markdown",
   "id": "fossil-march",
   "metadata": {},
   "source": [
    "> coord of point of symmetry of triangle\n",
    "---"
   ]
  },
  {
   "cell_type": "code",
   "execution_count": 11,
   "id": "broke-baseball",
   "metadata": {},
   "outputs": [
    {
     "name": "stdin",
     "output_type": "stream",
     "text": [
      " 2\n"
     ]
    },
    {
     "name": "stdout",
     "output_type": "stream",
     "text": [
      "positive\n"
     ]
    }
   ],
   "source": [
    "n = int(input())\n",
    "if n > 4/3:\n",
    "    print('positive')\n",
    "else:\n",
    "    print('negative')\n"
   ]
  },
  {
   "cell_type": "markdown",
   "id": "judicial-hindu",
   "metadata": {},
   "source": [
    "> (3x - 4) / 2 >= 0 \n",
    "---"
   ]
  },
  {
   "cell_type": "code",
   "execution_count": 12,
   "id": "english-michigan",
   "metadata": {},
   "outputs": [
    {
     "name": "stdin",
     "output_type": "stream",
     "text": [
      " 2\n",
      " 5\n"
     ]
    },
    {
     "name": "stdout",
     "output_type": "stream",
     "text": [
      "3.5 3.1622776601683795\n",
      "arithmetic more than geometry\n"
     ]
    }
   ],
   "source": [
    "(x, y) = (int(input()) for i in range(2))\n",
    "mid_a = (x + y) / 2\n",
    "mid_g = (x * y) ** 0.5\n",
    "print(mid_a, mid_g)\n",
    "if mid_a > mid_g:\n",
    "    print('arithmetic more than geometry')\n",
    "elif mid_a < mid_g:\n",
    "    print('arithmetic less than geometry')\n",
    "else:\n",
    "    print('arithmetic equal geometry')\n"
   ]
  },
  {
   "cell_type": "markdown",
   "id": "alien-password",
   "metadata": {},
   "source": [
    "> compare arithmetic mid and geometry mid\n",
    "---"
   ]
  },
  {
   "cell_type": "code",
   "execution_count": 16,
   "id": "excited-intersection",
   "metadata": {},
   "outputs": [
    {
     "name": "stdin",
     "output_type": "stream",
     "text": [
      " 1\n",
      " 2\n",
      " 3\n",
      " 4\n",
      " 5\n",
      " 6\n"
     ]
    },
    {
     "name": "stdout",
     "output_type": "stream",
     "text": [
      "False\n"
     ]
    }
   ],
   "source": [
    "numbers = [int(input()) for i in range(6)]\n",
    "logic = False\n",
    "\n",
    "for i in range(len(numbers)):\n",
    "    if numbers[i] + numbers[i-1] == 8:\n",
    "        logic = True\n",
    "\n",
    "print(logic)\n"
   ]
  },
  {
   "cell_type": "markdown",
   "id": "marine-corpus",
   "metadata": {},
   "source": [
    "> search for pair of num which sum is 8\n",
    "---"
   ]
  },
  {
   "cell_type": "markdown",
   "id": "arbitrary-riverside",
   "metadata": {},
   "source": [
    "## LAB7 \n",
    "### Tema: Conditions\n",
    "---"
   ]
  },
  {
   "cell_type": "code",
   "execution_count": 17,
   "id": "painful-premises",
   "metadata": {},
   "outputs": [
    {
     "name": "stdin",
     "output_type": "stream",
     "text": [
      " 5\n",
      " 1\n",
      " 2\n",
      " 3\n",
      " 4\n",
      " 5\n"
     ]
    },
    {
     "name": "stdout",
     "output_type": "stream",
     "text": [
      "15\n"
     ]
    }
   ],
   "source": [
    "print(sum([int(input()) for i in range(int(input()))]))\n"
   ]
  },
  {
   "cell_type": "markdown",
   "id": "molecular-bankruptcy",
   "metadata": {},
   "source": [
    "> return sum of n numbers\n",
    "\n",
    "> first you write n then numers\n",
    "---"
   ]
  },
  {
   "cell_type": "markdown",
   "id": "applicable-knight",
   "metadata": {},
   "source": [
    "## LAB8 \n",
    "### Tema: Str\n",
    "---"
   ]
  },
  {
   "cell_type": "code",
   "execution_count": 19,
   "id": "rising-surveillance",
   "metadata": {},
   "outputs": [
    {
     "name": "stdin",
     "output_type": "stream",
     "text": [
      " 123h321h321h123\n"
     ]
    },
    {
     "name": "stdout",
     "output_type": "stream",
     "text": [
      "123h123\n"
     ]
    }
   ],
   "source": [
    "word = list(map(lambda x: x[:: -1], input().split('h')[1: -1]))\n",
    "word.reverse()\n",
    "print(*word, sep='h')\n"
   ]
  },
  {
   "cell_type": "markdown",
   "id": "worldwide-middle",
   "metadata": {},
   "source": [
    "> read str, split with h, cut first and last item of list, print list with sep h \n",
    "---"
   ]
  },
  {
   "cell_type": "markdown",
   "id": "soviet-dylan",
   "metadata": {},
   "source": [
    "## LAB9 \n",
    "### Tema: While\n",
    "---"
   ]
  },
  {
   "cell_type": "code",
   "execution_count": 20,
   "id": "standard-divorce",
   "metadata": {},
   "outputs": [
    {
     "name": "stdin",
     "output_type": "stream",
     "text": [
      " 1\n",
      " 2\n",
      " 3\n",
      " 4\n",
      " 0\n"
     ]
    },
    {
     "name": "stdout",
     "output_type": "stream",
     "text": [
      "4\n"
     ]
    }
   ],
   "source": [
    "cnt = 0\n",
    "while 1:\n",
    "    n = int(input())\n",
    "    if n == 0:\n",
    "        break\n",
    "    cnt += 1\n",
    "print(cnt)\n"
   ]
  },
  {
   "cell_type": "markdown",
   "id": "enclosed-trademark",
   "metadata": {},
   "source": [
    "> read numbers while num is not 0\n",
    "\n",
    "> print cnt of numbers\n",
    "---"
   ]
  },
  {
   "cell_type": "markdown",
   "id": "phantom-commercial",
   "metadata": {},
   "source": [
    "## LAB10 \n",
    "### Tema: List\n",
    "---"
   ]
  },
  {
   "cell_type": "code",
   "execution_count": 1,
   "id": "toxic-stamp",
   "metadata": {},
   "outputs": [
    {
     "name": "stdin",
     "output_type": "stream",
     "text": [
      " 2 2 4 4 6 6\n"
     ]
    },
    {
     "name": "stdout",
     "output_type": "stream",
     "text": [
      "3\n"
     ]
    }
   ],
   "source": [
    "L = [int(i) for i in input().split()]\n",
    "cnt = 0\n",
    "\n",
    "for i in range(len(L) - 1):\n",
    "    for j in range(i + 1, len(L)):\n",
    "        if L[i] == L[j]:\n",
    "            cnt += 1\n",
    "\n",
    "print(cnt)"
   ]
  },
  {
   "cell_type": "markdown",
   "id": "equipped-forge",
   "metadata": {},
   "source": [
    "> count pairs\n",
    "\n",
    "---"
   ]
  },
  {
   "cell_type": "markdown",
   "id": "employed-broadcast",
   "metadata": {},
   "source": [
    "## LAB11 \n",
    "### Tema: Func and recurtion\n",
    "---"
   ]
  },
  {
   "cell_type": "code",
   "execution_count": 24,
   "id": "instant-programmer",
   "metadata": {},
   "outputs": [],
   "source": [
    "def power(a, n):\n",
    "    if n == 0:\n",
    "        return 1\n",
    "    if n % 2 == 0:\n",
    "        return power(a*a, n // 2)\n",
    "    else:\n",
    "        return a * power(a, n - 1)"
   ]
  },
  {
   "cell_type": "code",
   "execution_count": 26,
   "id": "ranking-makeup",
   "metadata": {},
   "outputs": [
    {
     "name": "stdout",
     "output_type": "stream",
     "text": [
      "125\n"
     ]
    }
   ],
   "source": [
    "print(power(5, 3))"
   ]
  },
  {
   "cell_type": "code",
   "execution_count": null,
   "id": "speaking-harvest",
   "metadata": {},
   "outputs": [],
   "source": []
  }
 ],
 "metadata": {
  "kernelspec": {
   "display_name": "Python 3",
   "language": "python",
   "name": "python3"
  },
  "language_info": {
   "codemirror_mode": {
    "name": "ipython",
    "version": 3
   },
   "file_extension": ".py",
   "mimetype": "text/x-python",
   "name": "python",
   "nbconvert_exporter": "python",
   "pygments_lexer": "ipython3",
   "version": "3.8.3"
  }
 },
 "nbformat": 4,
 "nbformat_minor": 5
}
