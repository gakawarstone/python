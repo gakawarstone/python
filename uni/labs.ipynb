{
 "cells": [
  {
   "cell_type": "markdown",
   "id": "confused-cartoon",
   "metadata": {},
   "source": [
    "lab2: simple prog read n and print n"
   ]
  },
  {
   "cell_type": "code",
   "execution_count": 1,
   "id": "standing-mattress",
   "metadata": {},
   "outputs": [
    {
     "name": "stdout",
     "output_type": "stream",
     "text": [
      "Введите целое число: 5\n",
      "Вы ввели число: 5\n"
     ]
    }
   ],
   "source": [
    "n = int(input('Введите целое число: '))\n",
    "print('Вы ввели число:', n)\n"
   ]
  },
  {
   "cell_type": "code",
   "execution_count": 1,
   "id": "tracked-basement",
   "metadata": {},
   "outputs": [
    {
     "name": "stdout",
     "output_type": "stream",
     "text": [
      "25\n",
      "45\n",
      "5\n",
      "['0b11001', '0b101101', '0b101']\n",
      "['0o31', '0o55', '0o5']\n",
      "['0x19', '0x2d', '0x5']\n"
     ]
    }
   ],
   "source": [
    "numbers = [int(input()) for i in range(3)]\n",
    "numbers_bin = list(map(bin, numbers))\n",
    "numbers_oct = list(map(oct, numbers))\n",
    "numbers_hex = list(map(hex, numbers))\n",
    "print(numbers_bin, numbers_oct, numbers_hex, sep='\\n')\n"
   ]
  },
  {
   "cell_type": "code",
   "execution_count": 2,
   "id": "pretty-constant",
   "metadata": {},
   "outputs": [
    {
     "name": "stdout",
     "output_type": "stream",
     "text": [
      "1011001\n",
      "10111\n",
      "11111\n",
      "['0o131', '0o27', '0o37']\n",
      "[89, 23, 31]\n",
      "['0x59', '0x17', '0x1f']\n"
     ]
    }
   ],
   "source": [
    "numbers_bin = [input() for i in range(3)]\n",
    "numbers = list(map(lambda x: int(x, 2), numbers_bin))\n",
    "numbers_oct = list(map(oct, numbers))\n",
    "numbers_hex = list(map(hex, numbers))\n",
    "print(numbers_oct, numbers, numbers_hex, sep='\\n')\n"
   ]
  },
  {
   "cell_type": "code",
   "execution_count": 4,
   "id": "tamil-protest",
   "metadata": {},
   "outputs": [
    {
     "name": "stdout",
     "output_type": "stream",
     "text": [
      "12\n",
      "5\n",
      "15\n",
      "5\n"
     ]
    }
   ],
   "source": [
    "numbers_oct = [input() for i in range(2)]\n",
    "numbers = list(map(lambda x: int(x, 8), numbers_oct))\n",
    "print(sum(numbers))\n",
    "numbers_plus = [numbers[i] for i in range(len(numbers)) if i % 2 == 0]\n",
    "numbers_minus = [-numbers[i] for i in range(len(numbers)) if i % 2 == 1]\n",
    "print(sum(numbers_plus) + sum(numbers_minus))\n"
   ]
  },
  {
   "cell_type": "code",
   "execution_count": null,
   "id": "acceptable-tuition",
   "metadata": {},
   "outputs": [],
   "source": []
  }
 ],
 "metadata": {
  "kernelspec": {
   "display_name": "Python 3",
   "language": "python",
   "name": "python3"
  },
  "language_info": {
   "codemirror_mode": {
    "name": "ipython",
    "version": 3
   },
   "file_extension": ".py",
   "mimetype": "text/x-python",
   "name": "python",
   "nbconvert_exporter": "python",
   "pygments_lexer": "ipython3",
   "version": "3.8.3"
  }
 },
 "nbformat": 4,
 "nbformat_minor": 5
}
